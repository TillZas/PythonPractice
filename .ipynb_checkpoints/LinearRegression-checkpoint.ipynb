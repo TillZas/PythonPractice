{
 "cells": [
  {
   "cell_type": "code",
   "execution_count": 50,
   "metadata": {},
   "outputs": [],
   "source": [
    "# Imports\n",
    "import numpy as np\n",
    "import math\n",
    "import pandas\n",
    "from bokeh.plotting import figure, show, output_file, output_notebook\n",
    "from bokeh.layouts import column\n",
    "from sklearn import datasets, metrics\n",
    "from sklearn.linear_model import LinearRegression\n",
    "import numpy.linalg as linalg"
   ]
  },
  {
   "cell_type": "code",
   "execution_count": 51,
   "metadata": {},
   "outputs": [],
   "source": [
    "# Data importing and organizing\n",
    "data = pandas.read_csv(\"forestfires.csv\", sep=\",\")\n",
    "X = data.as_matrix([\"FFMC\",\"DMC\",\"DC\",\"ISI\",\"temp\",\"RH\",\"wind\"])\n",
    "X = X.T\n",
    "X = np.append(X,[np.ones(len(X[0]))],axis=0)\n",
    "X = X.T\n",
    "Y = data.as_matrix([\"area\"])"
   ]
  },
  {
   "cell_type": "code",
   "execution_count": 52,
   "metadata": {},
   "outputs": [],
   "source": [
    "# Alghoritm definition\n",
    "def msum(a,b):\n",
    "    res = []\n",
    "    for i in range(len(a)):\n",
    "        res_sub = []\n",
    "        for j in range(len(a[i])):\n",
    "            res_sub.append(a[i][j]+b[i][j])\n",
    "        res.append(res_sub)\n",
    "    return np.asarray(res)\n",
    "\n",
    "def msub(a,b):\n",
    "    res = []\n",
    "    for i in range(len(a)):\n",
    "        res_sub = []\n",
    "        for j in range(len(a[i])):\n",
    "            res_sub.append(a[i][j]-b[i][j])\n",
    "        res.append(res_sub)\n",
    "    return np.asarray(res)\n",
    "\n",
    "def mmult(a,b):\n",
    "    return np.asarray(np.dot(a,b))\n",
    "\n",
    "def minv(a):\n",
    "    return np.asarray(linalg.inv(a))\n",
    "\n",
    "def mI(val,size):\n",
    "    res = []\n",
    "    for i in range(size):\n",
    "        res_sub = []\n",
    "        for j in range(size):\n",
    "            res_sub.append(val if i==j else 0)\n",
    "        res.append(res_sub)\n",
    "    return np.asarray(res)\n",
    "\n",
    "def mIs(val,size):\n",
    "    res = []\n",
    "    for i in range(size):\n",
    "        res_sub = []\n",
    "        for j in range(size):\n",
    "            res_sub.append((val[i] if i<len(val) else 0) if i==j else 0)\n",
    "        res.append(res_sub)\n",
    "    return np.asarray(res)\n",
    "\n",
    "def linear(X,y):\n",
    "    a = mmult(X.T,X)\n",
    "    b = mmult(X.T,y)\n",
    "    return linalg.solve(a,b)\n",
    "\n",
    "def takeFromSvd(X,amnt):\n",
    "    V, D, U = linalg.svd(X,compute_uv=True, full_matrices=False)\n",
    "    D = mIs(D,len(D))\n",
    "    V = V[:,:amnt]\n",
    "    D = D[:amnt,:amnt]\n",
    "    U = U[:amnt,:amnt]\n",
    "    nX = mmult(V,mmult(D,U))\n",
    "    return nX"
   ]
  },
  {
   "cell_type": "code",
   "execution_count": 53,
   "metadata": {},
   "outputs": [],
   "source": [
    "# Calculations\n",
    "# Multi Dimensional\n",
    "coefsMD = linear(X,Y)\n",
    "\n",
    "line = \"y = \"\n",
    "for i in range(len(coefsMD)):\n",
    "    if(i != 0 ):\n",
    "        line = line + (\" +\" if(coefsMD[i][0]>=0) else \"\")\n",
    "    line = line + str(coefsMD[i][0])+((\"*x\"+str(i+1)) if i != len(coefsMD)-1 else \"\")\n",
    "\n",
    "# One Dimensional\n",
    "nX = takeFromSvd(X,2)\n",
    "coefs2D = linear(nX,Y)"
   ]
  },
  {
   "cell_type": "code",
   "execution_count": 54,
   "metadata": {},
   "outputs": [],
   "source": [
    "# Visualizations\n",
    "\n",
    "TOOLS=\"hover,crosshair,pan,wheel_zoom,zoom_in,zoom_out,box_zoom,reset,tap,save,\"\n",
    "p = figure(tools=TOOLS)\n",
    "p.scatter(nX[:,0],[x[0] for x in Y],fill_color=[\"#%02x%02x%02x\" % (255,0,0) for w in Y])\n",
    "p.line([x for x in nX[:,0]],[coefs2D[-1][0]+x*coefs2D[0][0] for x in nX[:,0]])\n",
    "\n",
    "show(p)"
   ]
  },
  {
   "cell_type": "code",
   "execution_count": null,
   "metadata": {},
   "outputs": [],
   "source": []
  }
 ],
 "metadata": {
  "kernelspec": {
   "display_name": "Python 3",
   "language": "python",
   "name": "python3"
  },
  "language_info": {
   "codemirror_mode": {
    "name": "ipython",
    "version": 3
   },
   "file_extension": ".py",
   "mimetype": "text/x-python",
   "name": "python",
   "nbconvert_exporter": "python",
   "pygments_lexer": "ipython3",
   "version": "3.6.3"
  }
 },
 "nbformat": 4,
 "nbformat_minor": 2
}
