{
 "cells": [
  {
   "cell_type": "code",
   "execution_count": 24,
   "metadata": {},
   "outputs": [],
   "source": [
    "# Imports\n",
    "import numpy as np\n",
    "from bokeh.plotting import figure, show, output_file\n",
    "from bokeh.layouts import column\n",
    "from sklearn import datasets\n",
    "from sklearn.naive_bayes import GaussianNB"
   ]
  },
  {
   "cell_type": "code",
   "execution_count": 25,
   "metadata": {},
   "outputs": [],
   "source": [
    "# Data importing and organizing\n",
    "X,Y = datasets.make_classification(n_samples=100, n_features=2, n_informative=2, n_redundant=0, n_repeated=0, n_classes=2)"
   ]
  },
  {
   "cell_type": "code",
   "execution_count": 26,
   "metadata": {},
   "outputs": [],
   "source": [
    "# Alghoritm definition"
   ]
  },
  {
   "cell_type": "code",
   "execution_count": 27,
   "metadata": {},
   "outputs": [],
   "source": [
    "# Calculations\n",
    "x_steps = 50\n",
    "y_steps = 50\n",
    "x_min, x_max = X[:, 0].min() - 1, X[:, 0].max() + 1\n",
    "y_min, y_max = X[:, 1].min() - 1, X[:, 1].max() + 1\n",
    "x_step_len = (x_max-x_min)/x_steps\n",
    "y_step_len = (y_max-y_min)/y_steps\n",
    "\n",
    "clf = GaussianNB()\n",
    "clf.fit(X,Y)\n",
    "classes_field = []\n",
    "for y in range(x_steps):\n",
    "    classes_line = []\n",
    "    for x in range(y_steps):\n",
    "        classes_line.append(clf.predict([[x_min+(x*x_step_len),y_min+(y*y_step_len)]]))\n",
    "    classes_field.append(classes_line)"
   ]
  },
  {
   "cell_type": "code",
   "execution_count": 28,
   "metadata": {},
   "outputs": [],
   "source": [
    "# Visualizations\n",
    "colors = [[250,0,0],[0,0,250]]\n",
    "TOOLS=\"hover,crosshair,pan,wheel_zoom,zoom_in,zoom_out,box_zoom,reset,tap,save,\"\n",
    "\n",
    "p_1 = figure(tools=TOOLS,x_range=(x_min,x_max), y_range=(y_min,y_max))\n",
    "\n",
    "img = np.empty((x_steps,y_steps), dtype=np.uint32)\n",
    "view = img.view(dtype=np.uint8).reshape((x_steps, y_steps, 4))\n",
    "for i in range(x_steps):\n",
    "    for j in range(y_steps):\n",
    "        view[j, i, 0] = int(max(colors[int(classes_field[j][i])][0]-40,0))\n",
    "        view[j, i, 1] = int(max(colors[int(classes_field[j][i])][1]-40,0))\n",
    "        view[j, i, 2] = int(max(colors[int(classes_field[j][i])][2]-40,0))\n",
    "        view[j, i, 3] = 255\n",
    "\n",
    "p_1.image_rgba(image=[img], x=x_min, y=y_min, dw=(x_max-x_min), dh=(y_max-y_min))\n",
    "p_1.scatter(X[:,0], X[:,1],radius = 0.05,\n",
    "          fill_color=[\"#%02x%02x%02x\" % (colors[x][0],colors[x][1],colors[x][2]) for x in Y],\n",
    "          line_color=\"#000000\")\n",
    "\n",
    "output_file(\"NaiveBayes.html\", title=\"NaiveBayes Gaussian\")\n",
    "\n",
    "show(p_1)"
   ]
  },
  {
   "cell_type": "code",
   "execution_count": null,
   "metadata": {},
   "outputs": [],
   "source": []
  }
 ],
 "metadata": {
  "kernelspec": {
   "display_name": "Python 3",
   "language": "python",
   "name": "python3"
  },
  "language_info": {
   "codemirror_mode": {
    "name": "ipython",
    "version": 3
   },
   "file_extension": ".py",
   "mimetype": "text/x-python",
   "name": "python",
   "nbconvert_exporter": "python",
   "pygments_lexer": "ipython3",
   "version": "3.6.3"
  }
 },
 "nbformat": 4,
 "nbformat_minor": 2
}
