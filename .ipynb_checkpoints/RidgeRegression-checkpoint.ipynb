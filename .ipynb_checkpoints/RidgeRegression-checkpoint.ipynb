{
 "cells": [
  {
   "cell_type": "code",
   "execution_count": 27,
   "metadata": {},
   "outputs": [],
   "source": [
    "# Imports\n",
    "import numpy as np\n",
    "import math\n",
    "import pandas\n",
    "import bokeh\n",
    "from bokeh.plotting import figure, show, output_file, output_notebook\n",
    "from bokeh.layouts import column\n",
    "from sklearn import datasets, metrics\n",
    "from sklearn.linear_model import Ridge\n",
    "import numpy.linalg as linalg"
   ]
  },
  {
   "cell_type": "code",
   "execution_count": 32,
   "metadata": {},
   "outputs": [],
   "source": [
    "# Data importing and organizing\n",
    "X,Y = datasets.make_regression(n_samples=50, n_features=10,n_targets=1,noise=2)\n",
    "X = X.T\n",
    "ones = np.ones(len(X[0]))\n",
    "X = np.append(X,[ones],axis=0)\n",
    "X = X.T\n",
    "X_test = X[int(len(X)/2):]\n",
    "Y_test = Y[int(len(Y)/2):]\n",
    "X = X[:int(len(X)/2)]\n",
    "Y = Y[:int(len(Y)/2)]"
   ]
  },
  {
   "cell_type": "code",
   "execution_count": 33,
   "metadata": {},
   "outputs": [],
   "source": [
    "# Alghoritm definition  F = V D U^T\n",
    "def msum(a,b):\n",
    "    res = []\n",
    "    for i in range(len(a)):\n",
    "        res_sub = []\n",
    "        for j in range(len(a[i])):\n",
    "            res_sub.append(a[i][j]+b[i][j])\n",
    "        res.append(res_sub)\n",
    "    return np.asarray(res)\n",
    "\n",
    "def msub(a,b):\n",
    "    res = []\n",
    "    for i in range(len(a)):\n",
    "        res_sub = []\n",
    "        for j in range(len(a[i])):\n",
    "            res_sub.append(a[i][j]-b[i][j])\n",
    "        res.append(res_sub)\n",
    "    return np.asarray(res)\n",
    "\n",
    "def mmult(a,b):\n",
    "    return np.asarray(np.dot(a,b))\n",
    "\n",
    "def minv(a):\n",
    "    return np.asarray(linalg.inv(a))\n",
    "\n",
    "def mI(val,size):\n",
    "    res = []\n",
    "    for i in range(size):\n",
    "        res_sub = []\n",
    "        for j in range(size):\n",
    "            res_sub.append(val if i==j else 0)\n",
    "        res.append(res_sub)\n",
    "    return np.asarray(res)\n",
    "\n",
    "def mIs(val,size):\n",
    "    res = []\n",
    "    for i in range(size):\n",
    "        res_sub = []\n",
    "        for j in range(size):\n",
    "            res_sub.append((val[i] if i<len(val) else 0) if i==j else 0)\n",
    "        res.append(res_sub)\n",
    "    return np.asarray(res)\n",
    "\n",
    "def ridge(X,y,tau):\n",
    "    a = mmult(X,X.T)\n",
    "    a = msum(a,mI(tau,len(a)))\n",
    "    a = minv(a)\n",
    "    a = mmult(X.T,a)\n",
    "    a = mmult(a,y)\n",
    "    return a"
   ]
  },
  {
   "cell_type": "code",
   "execution_count": 34,
   "metadata": {},
   "outputs": [],
   "source": [
    "# Calculations\n",
    "errors = [[x/10 for x in range(0,1001)]]\n",
    "err_vals = []\n",
    "err_vecs = []\n",
    "for i in range(len(errors[0])):\n",
    "    tau = errors[0][i]\n",
    "    tcoef = ridge(X,Y,tau)\n",
    "    err_vals.append(metrics.mean_squared_error(Y_test,[tcoef[1]+x*tcoef[0] for x in X_test[:,0]]))\n",
    "    err_vecs.append([x for x in tcoef])\n",
    "errors = np.append(errors,[err_vals],axis=0)\n",
    "\n",
    "min_id = errors[1].tolist().index(errors[1].min())\n",
    "coefs = ridge(X,Y,errors[0][min_id])"
   ]
  },
  {
   "cell_type": "code",
   "execution_count": 35,
   "metadata": {},
   "outputs": [],
   "source": [
    "# Visualizations\n",
    "TOOLS=\"hover,crosshair,pan,wheel_zoom,zoom_in,zoom_out,box_zoom,reset,tap,save,\"\n",
    "p = figure(tools=TOOLS)\n",
    "p.scatter(X[:,0],Y)\n",
    "p.scatter(X_test[:,0],Y_test,fill_color=[\"#%02x%02x%02x\" % (255,0,0) for w in Y_test])\n",
    "p.line(X[:,0],coefs[1]+X[:,0]*coefs[0])\n",
    "\n",
    "p2 = figure(tools = TOOLS)\n",
    "p2.line(errors[0],errors[1])\n",
    "p2.xaxis.axis_label = 'tau'\n",
    "p2.yaxis.axis_label = 'squared error'\n",
    "\n",
    "p3 = figure(tools = TOOLS)\n",
    "err_vecs = np.asarray(err_vecs)\n",
    "\n",
    "colors = bokeh.palettes.d3['Category20'][20]\n",
    "for i in range(len(err_vecs[0])):\n",
    "    p3.line(errors[0],err_vecs[:,i],line_color=colors[i])\n",
    "p3.xaxis.axis_label = 'tau'\n",
    "p3.yaxis.axis_label = 'coef value'\n",
    "\n",
    "output_file(\"RidgeRegression.html\", title=\"Ridge\")\n",
    "output_notebook()\n",
    "\n",
    "show(column(p,p2,p3))"
   ]
  },
  {
   "cell_type": "code",
   "execution_count": null,
   "metadata": {},
   "outputs": [],
   "source": []
  },
  {
   "cell_type": "code",
   "execution_count": null,
   "metadata": {},
   "outputs": [],
   "source": []
  },
  {
   "cell_type": "code",
   "execution_count": null,
   "metadata": {},
   "outputs": [],
   "source": []
  }
 ],
 "metadata": {
  "kernelspec": {
   "display_name": "Python 3",
   "language": "python",
   "name": "python3"
  },
  "language_info": {
   "codemirror_mode": {
    "name": "ipython",
    "version": 3
   },
   "file_extension": ".py",
   "mimetype": "text/x-python",
   "name": "python",
   "nbconvert_exporter": "python",
   "pygments_lexer": "ipython3",
   "version": "3.6.3"
  }
 },
 "nbformat": 4,
 "nbformat_minor": 2
}
