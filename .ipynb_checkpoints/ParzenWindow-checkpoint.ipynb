{
 "cells": [
  {
   "cell_type": "code",
   "execution_count": 252,
   "metadata": {},
   "outputs": [],
   "source": [
    "# Imports\n",
    "import numpy as np\n",
    "from bokeh.plotting import figure, show, output_file\n",
    "from bokeh.layouts import column\n",
    "from sklearn import neighbors, datasets, metrics\n",
    "import decimal"
   ]
  },
  {
   "cell_type": "code",
   "execution_count": 253,
   "metadata": {},
   "outputs": [],
   "source": [
    "# Data importing and organizing\n",
    "X,Y = datasets.make_classification(n_samples=10, n_features=2, n_informative=2, n_redundant=0, n_repeated=0, n_classes=2)"
   ]
  },
  {
   "cell_type": "code",
   "execution_count": 254,
   "metadata": {},
   "outputs": [],
   "source": [
    "# Alghoritm definition\n",
    "def frange(x, y, jump):\n",
    "    while x < y:\n",
    "        yield x\n",
    "        x += jump\n",
    "\n",
    "def cross_validation(X,Y,start,end,step,weight):\n",
    "    item_amount = len(X)\n",
    "    error_percentage = []\n",
    "    minimal_good_radius = 0\n",
    "    minimal_errors = len(X)\n",
    "    for radius in frange(start,end, step):\n",
    "        errors = 0\n",
    "        for i in range(item_amount):\n",
    "            item = X[i]\n",
    "            item_class = Y[i]\n",
    "            X_t = np.delete(X,i,0)\n",
    "            Y_t = np.delete(Y,i,0)\n",
    "            clf = neighbors.RadiusNeighborsClassifier(radius, weights=weight,outlier_label=-2)\n",
    "            clf.fit(X_t, Y_t)\n",
    "            predicted_class = clf.predict(item.reshape(1, -1))\n",
    "            if(predicted_class != item_class):\n",
    "                errors = errors + 1\n",
    "        error_percentage.append(errors/item_amount)\n",
    "        if(errors<minimal_errors):\n",
    "            minimal_errors = errors\n",
    "            minimal_good_radius = radius\n",
    "    return minimal_good_radius,error_percentage\n",
    "\n",
    "def kernel_distance(weights):\n",
    "    if(type(weights[0]) == type(1.1)):\n",
    "        res = np.ndarray(shape = (1))\n",
    "        res[0] = 0\n",
    "        return res\n",
    "    else:\n",
    "        maxDist = 0\n",
    "        for x in weights[0]:\n",
    "            maxDist = max(maxDist,x)\n",
    "        return np.asarray([np.asarray([1-(abs(x)/maxDist) for x in weights[0]])])\n",
    "    \n",
    "def kernel_rbf(weights):\n",
    "    if(type(weights[0]) == type(1.1)):\n",
    "        res = np.ndarray(shape = (1))\n",
    "        res[0] = 0\n",
    "        return res\n",
    "    else:\n",
    "        return np.asarray([np.asarray([metrics.pairwise.rbf_kernel([[x]],[[0]])[0][0] for x in weights[0]])])"
   ]
  },
  {
   "cell_type": "code",
   "execution_count": 255,
   "metadata": {},
   "outputs": [],
   "source": [
    "# Global data\n",
    "x_steps = 500\n",
    "y_steps = 500\n",
    "x_min, x_max = X[:, 0].min() - 1, X[:, 0].max() + 1\n",
    "y_min, y_max = X[:, 1].min() - 1, X[:, 1].max() + 1\n",
    "x_step_len = (x_max-x_min)/x_steps\n",
    "y_step_len = (y_max-y_min)/y_steps\n",
    "\n",
    "cv_min = 0.1\n",
    "cv_max = np.sqrt((x_max-x_min)**2 + (y_max-y_min)**2)\n",
    "cv_steps = 1000\n",
    "cv_step = (cv_max-cv_min)/cv_steps"
   ]
  },
  {
   "cell_type": "code",
   "execution_count": 256,
   "metadata": {},
   "outputs": [],
   "source": [
    "# Calculations distance kernel\n",
    "radius,cross_validation_result = cross_validation(X,Y,cv_min,cv_max,cv_step,kernel_distance)\n",
    "clf = neighbors.RadiusNeighborsClassifier(radius, weights=kernel_distance,outlier_label=-1)\n",
    "clf.fit(X, Y)\n",
    "classes_field = []\n",
    "for y in range(x_steps):\n",
    "    classes_line = []\n",
    "    for x in range(y_steps):\n",
    "        classes_line.append(clf.predict([[x_min+(x*x_step_len),y_min+(y*y_step_len)]]))\n",
    "    classes_field.append(classes_line)"
   ]
  },
  {
   "cell_type": "code",
   "execution_count": 257,
   "metadata": {},
   "outputs": [
    {
     "name": "stdout",
     "output_type": "stream",
     "text": [
      "\n"
     ]
    }
   ],
   "source": [
    "# Visualizations distance kernel\n",
    "colors = [[250,0,0],[0,0,250],[112,112,112]]\n",
    "TOOLS=\"hover,crosshair,pan,wheel_zoom,zoom_in,zoom_out,box_zoom,reset,tap,save,\"\n",
    "\n",
    "p_1 = figure(tools=TOOLS,x_range=(x_min,x_max), y_range=(y_min,y_max))\n",
    "\n",
    "img = np.empty((x_steps,y_steps), dtype=np.uint32)\n",
    "view = img.view(dtype=np.uint8).reshape((x_steps, y_steps, 4))\n",
    "for i in range(x_steps):\n",
    "    for j in range(y_steps):\n",
    "        view[j, i, 0] = int(max(colors[int(classes_field[j][i])][0]-40,0))\n",
    "        view[j, i, 1] = int(max(colors[int(classes_field[j][i])][1]-40,0))\n",
    "        view[j, i, 2] = int(max(colors[int(classes_field[j][i])][2]-40,0))\n",
    "        view[j, i, 3] = 255\n",
    "\n",
    "p_1.image_rgba(image=[img], x=x_min, y=y_min, dw=(x_max-x_min), dh=(y_max-y_min))\n",
    "p_1.scatter(X[:,0], X[:,1],radius = 0.05,\n",
    "          fill_color=[\"#%02x%02x%02x\" % (colors[x][0],colors[x][1],colors[x][2]) for x in Y],\n",
    "          line_color=\"#000000\")\n",
    "\n",
    "p_2 = figure(tools=TOOLS)\n",
    "hist, edges = np.histogram(cross_validation_result, density=True, bins=50)\n",
    "print()\n",
    "p_2.xaxis.axis_label = 'radius'\n",
    "p_2.yaxis.axis_label = 'error %'\n",
    "p_2.quad(top=cross_validation_result, bottom=0,\n",
    "         left = [cv_min + x*cv_step for x in range(len(cross_validation_result))],\n",
    "         right=[cv_min + (x+1)*cv_step for x in range(len(cross_validation_result))],\n",
    "        fill_color=\"#036564\", line_color=\"#033649\")\n",
    "\n",
    "p_3 = figure()\n",
    "p_3.line([x for x in frange(-1,1,0.1)], kernel_distance([[x for x in frange(-1,1,0.1)]])[0], line_width=2)\n",
    "\n",
    "output_file(\"Parzen_distance_kernel.html\", title=\"Parsen using \"+str(radius) + \" radius\")\n",
    "\n",
    "show(column(p_1,p_2,p_3))"
   ]
  },
  {
   "cell_type": "code",
   "execution_count": 258,
   "metadata": {},
   "outputs": [],
   "source": [
    "# Calculations rbf kernel\n",
    "radius,cross_validation_result = cross_validation(X,Y,cv_min,cv_max,cv_step,kernel_rbf)\n",
    "clf = neighbors.RadiusNeighborsClassifier(radius, weights=kernel_rbf,outlier_label=-1)\n",
    "clf.fit(X, Y)\n",
    "classes_field = []\n",
    "for y in range(x_steps):\n",
    "    classes_line = []\n",
    "    for x in range(y_steps):\n",
    "        classes_line.append(clf.predict([[x_min+(x*x_step_len),y_min+(y*y_step_len)]]))\n",
    "    classes_field.append(classes_line)"
   ]
  },
  {
   "cell_type": "code",
   "execution_count": 259,
   "metadata": {},
   "outputs": [
    {
     "name": "stdout",
     "output_type": "stream",
     "text": [
      "\n"
     ]
    }
   ],
   "source": [
    "# Visualizations rbf kernel\n",
    "colors = [[250,0,0],[0,0,250],[112,112,112]]\n",
    "TOOLS=\"hover,crosshair,pan,wheel_zoom,zoom_in,zoom_out,box_zoom,reset,tap,save,\"\n",
    "\n",
    "p_1 = figure(tools=TOOLS,x_range=(x_min,x_max), y_range=(y_min,y_max))\n",
    "\n",
    "img = np.empty((x_steps,y_steps), dtype=np.uint32)\n",
    "view = img.view(dtype=np.uint8).reshape((x_steps, y_steps, 4))\n",
    "for i in range(x_steps):\n",
    "    for j in range(y_steps):\n",
    "        view[j, i, 0] = int(max(colors[int(classes_field[j][i])][0]-40,0))\n",
    "        view[j, i, 1] = int(max(colors[int(classes_field[j][i])][1]-40,0))\n",
    "        view[j, i, 2] = int(max(colors[int(classes_field[j][i])][2]-40,0))\n",
    "        view[j, i, 3] = 255\n",
    "\n",
    "p_1.image_rgba(image=[img], x=x_min, y=y_min, dw=(x_max-x_min), dh=(y_max-y_min))\n",
    "p_1.scatter(X[:,0], X[:,1],radius = 0.05,\n",
    "          fill_color=[\"#%02x%02x%02x\" % (colors[x][0],colors[x][1],colors[x][2]) for x in Y],\n",
    "          line_color=\"#000000\")\n",
    "\n",
    "p_2 = figure(tools=TOOLS)\n",
    "hist, edges = np.histogram(cross_validation_result, density=True, bins=50)\n",
    "print()\n",
    "p_2.xaxis.axis_label = 'radius'\n",
    "p_2.yaxis.axis_label = 'error %'\n",
    "p_2.quad(top=cross_validation_result, bottom=0,\n",
    "         left = [cv_min + x*cv_step for x in range(len(cross_validation_result))],\n",
    "         right=[cv_min + (x+1)*cv_step for x in range(len(cross_validation_result))],\n",
    "        fill_color=\"#036564\", line_color=\"#033649\")\n",
    "\n",
    "p_3 = figure()\n",
    "p_3.line([x for x in frange(-2,2,0.1)], kernel_rbf([[x for x in frange(-2,2,0.1)]])[0], line_width=2)\n",
    "\n",
    "output_file(\"Parzen_sigmoid_kernel.html\", title=\"Parsen using \"+str(radius) + \" radius\")\n",
    "\n",
    "show(column(p_1,p_2,p_3))"
   ]
  },
  {
   "cell_type": "code",
   "execution_count": null,
   "metadata": {},
   "outputs": [],
   "source": []
  }
 ],
 "metadata": {
  "kernelspec": {
   "display_name": "Python 3",
   "language": "python",
   "name": "python3"
  },
  "language_info": {
   "codemirror_mode": {
    "name": "ipython",
    "version": 3
   },
   "file_extension": ".py",
   "mimetype": "text/x-python",
   "name": "python",
   "nbconvert_exporter": "python",
   "pygments_lexer": "ipython3",
   "version": "3.6.3"
  }
 },
 "nbformat": 4,
 "nbformat_minor": 2
}
