{
 "cells": [
  {
   "cell_type": "code",
   "execution_count": 107,
   "metadata": {},
   "outputs": [],
   "source": [
    "# Imports\n",
    "import numpy as np\n",
    "from bokeh.plotting import figure, show, output_file\n",
    "from bokeh.layouts import column\n",
    "from sklearn import neighbors, datasets"
   ]
  },
  {
   "cell_type": "code",
   "execution_count": 108,
   "metadata": {},
   "outputs": [],
   "source": [
    "# Data importing and organizing\n",
    "X,Y = datasets.make_classification(n_samples=100, n_features=2, n_informative=2, n_redundant=0, n_repeated=0, n_classes=2)"
   ]
  },
  {
   "cell_type": "code",
   "execution_count": 109,
   "metadata": {},
   "outputs": [],
   "source": [
    "# Definitions\n",
    "def cross_validation(X,Y):\n",
    "    item_amount = len(X)\n",
    "    error_percentage = []\n",
    "    minimal_good_neighbors = 0\n",
    "    minimal_errors = len(X)\n",
    "    for n_neighbors in range(1,item_amount - 1):\n",
    "        errors = 0\n",
    "        for i in range(item_amount):\n",
    "            item = X[i]\n",
    "            item_class = Y[i]\n",
    "            X_t = np.delete(X,i,0)\n",
    "            Y_t = np.delete(Y,i,0)\n",
    "            clf = neighbors.KNeighborsClassifier(n_neighbors, weights='distance')\n",
    "            clf.fit(X_t, Y_t)\n",
    "            predicted_class = clf.predict(item.reshape(1, -1))\n",
    "            if(predicted_class != item_class):\n",
    "                errors = errors + 1\n",
    "        error_percentage.append(errors/item_amount)\n",
    "        if(errors<minimal_errors):\n",
    "            minimal_errors = errors\n",
    "            minimal_good_neighbors = n_neighbors\n",
    "    return minimal_good_neighbors,error_percentage"
   ]
  },
  {
   "cell_type": "code",
   "execution_count": 110,
   "metadata": {},
   "outputs": [],
   "source": [
    "# Calculations\n",
    "x_steps = 400\n",
    "y_steps = 400\n",
    "x_min, x_max = X[:, 0].min() - 1, X[:, 0].max() + 1\n",
    "y_min, y_max = X[:, 1].min() - 1, X[:, 1].max() + 1\n",
    "x_step_len = (x_max-x_min)/x_steps\n",
    "y_step_len = (y_max-y_min)/y_steps\n",
    "\n",
    "\n",
    "n_neighbors,cross_validation_result = cross_validation(X,Y)\n",
    "clf = neighbors.KNeighborsClassifier(n_neighbors, weights='distance')\n",
    "clf.fit(X, Y)\n",
    "classes_field = []\n",
    "for y in range(x_steps):\n",
    "    classes_line = []\n",
    "    for x in range(y_steps):\n",
    "        classes_line.append(clf.predict([[x_min+(x*x_step_len),y_min+(y*y_step_len)]]))\n",
    "    classes_field.append(classes_line)"
   ]
  },
  {
   "cell_type": "code",
   "execution_count": 113,
   "metadata": {},
   "outputs": [
    {
     "name": "stdout",
     "output_type": "stream",
     "text": [
      "\n"
     ]
    },
    {
     "name": "stderr",
     "output_type": "stream",
     "text": [
      "E-1001 (BAD_COLUMN_NAME): Glyph refers to nonexistent column name: #0x0x0 [renderer: GlyphRenderer(id='f4e914ea-e689-48ba-a53d-bd3cf7aa0b51', ...)]\n",
      "E-1001 (BAD_COLUMN_NAME): Glyph refers to nonexistent column name: #0x0x0x0 [renderer: GlyphRenderer(id='34253ee7-c141-47ff-b985-73f01ee2c72c', ...)]\n"
     ]
    }
   ],
   "source": [
    "# Visualizations\n",
    "colors = [[250,0,0],[0,0,250]]\n",
    "TOOLS=\"hover,crosshair,pan,wheel_zoom,zoom_in,zoom_out,box_zoom,undo,redo,reset,tap,save,box_select,poly_select,lasso_select,\"\n",
    "\n",
    "p_1 = figure(tools=TOOLS,x_range=(x_min,x_max), y_range=(y_min,y_max))\n",
    "\n",
    "img = np.empty((x_steps,y_steps), dtype=np.uint32)\n",
    "view = img.view(dtype=np.uint8).reshape((x_steps, y_steps, 4))\n",
    "for i in range(x_steps):\n",
    "    for j in range(y_steps):\n",
    "        view[j, i, 0] = int(max(colors[int(classes_field[j][i])][0]-40,0))\n",
    "        view[j, i, 1] = int(max(colors[int(classes_field[j][i])][1]-40,0))\n",
    "        view[j, i, 2] = int(max(colors[int(classes_field[j][i])][2]-40,0))\n",
    "        view[j, i, 3] = 255\n",
    "\n",
    "p_1.image_rgba(image=[img], x=x_min, y=y_min, dw=(x_max-x_min), dh=(y_max-y_min))\n",
    "p_1.scatter(X[:,0], X[:,1],radius = 0.05,\n",
    "          fill_color=[\"#%02x%02x%02x\" % (colors[x][0],colors[x][1],colors[x][2]) for x in Y],\n",
    "          line_color=\"#000000\")\n",
    "\n",
    "p_2 = figure(tools=TOOLS)\n",
    "hist, edges = np.histogram(cross_validation_result, density=True, bins=50)\n",
    "print()\n",
    "p_2.xaxis.axis_label = 'neighbors'\n",
    "p_2.yaxis.axis_label = 'error %'\n",
    "p_2.quad(top=cross_validation_result, bottom=0,\n",
    "         left = [x for x in range(len(cross_validation_result))],\n",
    "         right=[x+1 for x in range(len(cross_validation_result))],\n",
    "        fill_color=\"#036564\", line_color=\"#033649\")\n",
    "#p_2.line(x, pdf, line_color=\"#D95B43\", line_width=8, alpha=0.7, legend=\"PDF\")\n",
    "\n",
    "output_file(\"KNN.html\", title=\"KNN using \"+str(n_neighbors) + \" neighbors\")\n",
    "\n",
    "show(column(p_1,p_2))\n"
   ]
  },
  {
   "cell_type": "code",
   "execution_count": null,
   "metadata": {},
   "outputs": [],
   "source": []
  }
 ],
 "metadata": {
  "kernelspec": {
   "display_name": "Python 3",
   "language": "python",
   "name": "python3"
  },
  "language_info": {
   "codemirror_mode": {
    "name": "ipython",
    "version": 3
   },
   "file_extension": ".py",
   "mimetype": "text/x-python",
   "name": "python",
   "nbconvert_exporter": "python",
   "pygments_lexer": "ipython3",
   "version": "3.6.3"
  }
 },
 "nbformat": 4,
 "nbformat_minor": 2
}
