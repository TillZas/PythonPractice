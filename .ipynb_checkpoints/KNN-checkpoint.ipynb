{
 "cells": [
  {
   "cell_type": "code",
   "execution_count": 26,
   "metadata": {},
   "outputs": [],
   "source": [
    "# Imports\n",
    "import numpy as np\n",
    "from bokeh.plotting import figure, show, output_file, output_notebook\n",
    "from bokeh.layouts import column\n",
    "from sklearn import neighbors, datasets"
   ]
  },
  {
   "cell_type": "code",
   "execution_count": 39,
   "metadata": {},
   "outputs": [],
   "source": [
    "# Data importing and organizing\n",
    "X,Y = datasets.make_classification(n_samples=100, n_features=2, n_informative=2, n_redundant=0,n_clusters_per_class = 1,\n",
    "                                   n_repeated=0, n_classes=3,shift =0.5,hypercube=False)"
   ]
  },
  {
   "cell_type": "code",
   "execution_count": 40,
   "metadata": {},
   "outputs": [],
   "source": [
    "# Definitions\n",
    "def leave_one_out(X,Y):\n",
    "    item_amount = len(X)\n",
    "    error_percentage = []\n",
    "    minimal_good_neighbors = 0\n",
    "    minimal_errors = len(X)\n",
    "    for n_neighbors in range(1,item_amount - 1):\n",
    "        errors = 0\n",
    "        for i in range(item_amount):\n",
    "            item = X[i]\n",
    "            item_class = Y[i]\n",
    "            X_t = np.delete(X,i,0)\n",
    "            Y_t = np.delete(Y,i,0)\n",
    "            clf = neighbors.KNeighborsClassifier(n_neighbors, weights='distance')\n",
    "            clf.fit(X_t, Y_t)\n",
    "            predicted_class = clf.predict(item.reshape(1, -1))\n",
    "            if(predicted_class != item_class):\n",
    "                errors = errors + 1\n",
    "        error_percentage.append(errors/item_amount)\n",
    "        if(errors<minimal_errors):\n",
    "            minimal_errors = errors\n",
    "            minimal_good_neighbors = n_neighbors\n",
    "    return minimal_good_neighbors,error_percentage"
   ]
  },
  {
   "cell_type": "code",
   "execution_count": 41,
   "metadata": {},
   "outputs": [],
   "source": [
    "# Calculations\n",
    "x_steps = 100\n",
    "y_steps = 100\n",
    "x_min, x_max = X[:, 0].min() - 1, X[:, 0].max() + 1\n",
    "y_min, y_max = X[:, 1].min() - 1, X[:, 1].max() + 1\n",
    "x_step_len = (x_max-x_min)/x_steps\n",
    "y_step_len = (y_max-y_min)/y_steps\n",
    "\n",
    "clf1 = neighbors.KNeighborsClassifier(1, weights='distance')\n",
    "clf1.fit(X, Y)\n",
    "\n",
    "classes_field1 = []\n",
    "for y in range(x_steps):\n",
    "    classes_line = []\n",
    "    for x in range(y_steps):\n",
    "        classes_line.append(clf1.predict([[x_min+(x*x_step_len),y_min+(y*y_step_len)]]))\n",
    "    classes_field1.append(classes_line)\n",
    "\n",
    "n_neighbors,cross_validation_result = leave_one_out(X,Y)\n",
    "clf = neighbors.KNeighborsClassifier(n_neighbors, weights='distance')\n",
    "clf.fit(X, Y)\n",
    "\n",
    "classes_field = []\n",
    "for y in range(x_steps):\n",
    "    classes_line = []\n",
    "    for x in range(y_steps):\n",
    "        classes_line.append(clf.predict([[x_min+(x*x_step_len),y_min+(y*y_step_len)]]))\n",
    "    classes_field.append(classes_line)"
   ]
  },
  {
   "cell_type": "code",
   "execution_count": 42,
   "metadata": {},
   "outputs": [
    {
     "ename": "IndexError",
     "evalue": "list index out of range",
     "output_type": "error",
     "traceback": [
      "\u001b[1;31m---------------------------------------------------------------------------\u001b[0m",
      "\u001b[1;31mIndexError\u001b[0m                                Traceback (most recent call last)",
      "\u001b[1;32m<ipython-input-42-893aadd5824e>\u001b[0m in \u001b[0;36m<module>\u001b[1;34m()\u001b[0m\n\u001b[0;32m      5\u001b[0m \u001b[0mp_0\u001b[0m \u001b[1;33m=\u001b[0m \u001b[0mfigure\u001b[0m\u001b[1;33m(\u001b[0m\u001b[0mtools\u001b[0m\u001b[1;33m=\u001b[0m\u001b[0mTOOLS\u001b[0m\u001b[1;33m,\u001b[0m\u001b[0mx_range\u001b[0m\u001b[1;33m=\u001b[0m\u001b[1;33m(\u001b[0m\u001b[0mx_min\u001b[0m\u001b[1;33m,\u001b[0m\u001b[0mx_max\u001b[0m\u001b[1;33m)\u001b[0m\u001b[1;33m,\u001b[0m \u001b[0my_range\u001b[0m\u001b[1;33m=\u001b[0m\u001b[1;33m(\u001b[0m\u001b[0my_min\u001b[0m\u001b[1;33m,\u001b[0m\u001b[0my_max\u001b[0m\u001b[1;33m)\u001b[0m\u001b[1;33m)\u001b[0m\u001b[1;33m\u001b[0m\u001b[0m\n\u001b[0;32m      6\u001b[0m p_0.scatter(X[:,0], X[:,1],radius = 0.05,\n\u001b[1;32m----> 7\u001b[1;33m           \u001b[0mfill_color\u001b[0m\u001b[1;33m=\u001b[0m\u001b[1;33m[\u001b[0m\u001b[1;34m\"#%02x%02x%02x\"\u001b[0m \u001b[1;33m%\u001b[0m \u001b[1;33m(\u001b[0m\u001b[0mcolors\u001b[0m\u001b[1;33m[\u001b[0m\u001b[0mx\u001b[0m\u001b[1;33m]\u001b[0m\u001b[1;33m[\u001b[0m\u001b[1;36m0\u001b[0m\u001b[1;33m]\u001b[0m\u001b[1;33m,\u001b[0m\u001b[0mcolors\u001b[0m\u001b[1;33m[\u001b[0m\u001b[0mx\u001b[0m\u001b[1;33m]\u001b[0m\u001b[1;33m[\u001b[0m\u001b[1;36m1\u001b[0m\u001b[1;33m]\u001b[0m\u001b[1;33m,\u001b[0m\u001b[0mcolors\u001b[0m\u001b[1;33m[\u001b[0m\u001b[0mx\u001b[0m\u001b[1;33m]\u001b[0m\u001b[1;33m[\u001b[0m\u001b[1;36m2\u001b[0m\u001b[1;33m]\u001b[0m\u001b[1;33m)\u001b[0m \u001b[1;32mfor\u001b[0m \u001b[0mx\u001b[0m \u001b[1;32min\u001b[0m \u001b[0mY\u001b[0m\u001b[1;33m]\u001b[0m\u001b[1;33m,\u001b[0m\u001b[1;33m\u001b[0m\u001b[0m\n\u001b[0m\u001b[0;32m      8\u001b[0m           line_color=\"#000000\")\n\u001b[0;32m      9\u001b[0m \u001b[1;33m\u001b[0m\u001b[0m\n",
      "\u001b[1;32m<ipython-input-42-893aadd5824e>\u001b[0m in \u001b[0;36m<listcomp>\u001b[1;34m(.0)\u001b[0m\n\u001b[0;32m      5\u001b[0m \u001b[0mp_0\u001b[0m \u001b[1;33m=\u001b[0m \u001b[0mfigure\u001b[0m\u001b[1;33m(\u001b[0m\u001b[0mtools\u001b[0m\u001b[1;33m=\u001b[0m\u001b[0mTOOLS\u001b[0m\u001b[1;33m,\u001b[0m\u001b[0mx_range\u001b[0m\u001b[1;33m=\u001b[0m\u001b[1;33m(\u001b[0m\u001b[0mx_min\u001b[0m\u001b[1;33m,\u001b[0m\u001b[0mx_max\u001b[0m\u001b[1;33m)\u001b[0m\u001b[1;33m,\u001b[0m \u001b[0my_range\u001b[0m\u001b[1;33m=\u001b[0m\u001b[1;33m(\u001b[0m\u001b[0my_min\u001b[0m\u001b[1;33m,\u001b[0m\u001b[0my_max\u001b[0m\u001b[1;33m)\u001b[0m\u001b[1;33m)\u001b[0m\u001b[1;33m\u001b[0m\u001b[0m\n\u001b[0;32m      6\u001b[0m p_0.scatter(X[:,0], X[:,1],radius = 0.05,\n\u001b[1;32m----> 7\u001b[1;33m           \u001b[0mfill_color\u001b[0m\u001b[1;33m=\u001b[0m\u001b[1;33m[\u001b[0m\u001b[1;34m\"#%02x%02x%02x\"\u001b[0m \u001b[1;33m%\u001b[0m \u001b[1;33m(\u001b[0m\u001b[0mcolors\u001b[0m\u001b[1;33m[\u001b[0m\u001b[0mx\u001b[0m\u001b[1;33m]\u001b[0m\u001b[1;33m[\u001b[0m\u001b[1;36m0\u001b[0m\u001b[1;33m]\u001b[0m\u001b[1;33m,\u001b[0m\u001b[0mcolors\u001b[0m\u001b[1;33m[\u001b[0m\u001b[0mx\u001b[0m\u001b[1;33m]\u001b[0m\u001b[1;33m[\u001b[0m\u001b[1;36m1\u001b[0m\u001b[1;33m]\u001b[0m\u001b[1;33m,\u001b[0m\u001b[0mcolors\u001b[0m\u001b[1;33m[\u001b[0m\u001b[0mx\u001b[0m\u001b[1;33m]\u001b[0m\u001b[1;33m[\u001b[0m\u001b[1;36m2\u001b[0m\u001b[1;33m]\u001b[0m\u001b[1;33m)\u001b[0m \u001b[1;32mfor\u001b[0m \u001b[0mx\u001b[0m \u001b[1;32min\u001b[0m \u001b[0mY\u001b[0m\u001b[1;33m]\u001b[0m\u001b[1;33m,\u001b[0m\u001b[1;33m\u001b[0m\u001b[0m\n\u001b[0m\u001b[0;32m      8\u001b[0m           line_color=\"#000000\")\n\u001b[0;32m      9\u001b[0m \u001b[1;33m\u001b[0m\u001b[0m\n",
      "\u001b[1;31mIndexError\u001b[0m: list index out of range"
     ]
    }
   ],
   "source": [
    "# Visualizations\n",
    "colors = [[250,0,0],[0,250,0],[0,0,250]]\n",
    "TOOLS=\"hover,crosshair,pan,wheel_zoom,zoom_in,zoom_out,box_zoom,reset,tap,save,\"\n",
    "\n",
    "p_0 = figure(tools=TOOLS,x_range=(x_min,x_max), y_range=(y_min,y_max))\n",
    "p_0.scatter(X[:,0], X[:,1],radius = 0.05,\n",
    "          fill_color=[\"#%02x%02x%02x\" % (colors[x][0],colors[x][1],colors[x][2]) for x in Y],\n",
    "          line_color=\"#000000\")\n",
    "\n",
    "\n",
    "p_3 = figure(tools=TOOLS,x_range=(x_min,x_max), y_range=(y_min,y_max))\n",
    "\n",
    "img1 = np.empty((x_steps,y_steps), dtype=np.uint32)\n",
    "view = img1.view(dtype=np.uint8).reshape((x_steps, y_steps, 4))\n",
    "for i in range(x_steps):\n",
    "    for j in range(y_steps):\n",
    "        view[j, i, 0] = int(max(colors[int(classes_field[j][i])][0]-40,0))\n",
    "        view[j, i, 1] = int(max(colors[int(classes_field[j][i])][1]-40,0))\n",
    "        view[j, i, 2] = int(max(colors[int(classes_field[j][i])][2]-40,0))\n",
    "        view[j, i, 3] = 255\n",
    "        \n",
    "p_3.image_rgba(image=[img1], x=x_min, y=y_min, dw=(x_max-x_min), dh=(y_max-y_min))\n",
    "p_3.scatter(X[:,0], X[:,1],radius = 0.05,\n",
    "          fill_color=[\"#%02x%02x%02x\" % (colors[x][0],colors[x][1],colors[x][2]) for x in Y],\n",
    "          line_color=\"#000000\")\n",
    "\n",
    "p_1 = figure(tools=TOOLS,x_range=(x_min,x_max), y_range=(y_min,y_max))\n",
    "\n",
    "img = np.empty((x_steps,y_steps), dtype=np.uint32)\n",
    "view = img.view(dtype=np.uint8).reshape((x_steps, y_steps, 4))\n",
    "for i in range(x_steps):\n",
    "    for j in range(y_steps):\n",
    "        view[j, i, 0] = int(max(colors[int(classes_field1[j][i])][0]-40,0))\n",
    "        view[j, i, 1] = int(max(colors[int(classes_field1[j][i])][1]-40,0))\n",
    "        view[j, i, 2] = int(max(colors[int(classes_field1[j][i])][2]-40,0))\n",
    "        view[j, i, 3] = 255\n",
    "\n",
    "p_1.image_rgba(image=[img], x=x_min, y=y_min, dw=(x_max-x_min), dh=(y_max-y_min))\n",
    "p_1.scatter(X[:,0], X[:,1],radius = 0.05,\n",
    "          fill_color=[\"#%02x%02x%02x\" % (colors[x][0],colors[x][1],colors[x][2]) for x in Y],\n",
    "          line_color=\"#000000\")\n",
    "\n",
    "p_2 = figure(tools=TOOLS)\n",
    "hist, edges = np.histogram(cross_validation_result, density=True, bins=50)\n",
    "print()\n",
    "p_2.xaxis.axis_label = 'neighbors'\n",
    "p_2.yaxis.axis_label = 'error %'\n",
    "p_2.quad(top=cross_validation_result, bottom=0,\n",
    "         left = [x for x in range(len(cross_validation_result))],\n",
    "         right=[x+1 for x in range(len(cross_validation_result))],\n",
    "        fill_color=\"#036564\", line_color=\"#033649\")\n",
    "#p_2.line(x, pdf, line_color=\"#D95B43\", line_width=8, alpha=0.7, legend=\"PDF\")\n",
    "\n",
    "output_file(\"KNN.html\", title=\"KNN using \"+str(n_neighbors) + \" neighbors\")\n",
    "output_notebook()\n",
    "\n",
    "show(column(p_0,p_3,p_1,p_2), notebook_handle=True)\n"
   ]
  },
  {
   "cell_type": "code",
   "execution_count": null,
   "metadata": {},
   "outputs": [],
   "source": []
  }
 ],
 "metadata": {
  "kernelspec": {
   "display_name": "Python 3",
   "language": "python",
   "name": "python3"
  },
  "language_info": {
   "codemirror_mode": {
    "name": "ipython",
    "version": 3
   },
   "file_extension": ".py",
   "mimetype": "text/x-python",
   "name": "python",
   "nbconvert_exporter": "python",
   "pygments_lexer": "ipython3",
   "version": "3.6.3"
  }
 },
 "nbformat": 4,
 "nbformat_minor": 2
}
