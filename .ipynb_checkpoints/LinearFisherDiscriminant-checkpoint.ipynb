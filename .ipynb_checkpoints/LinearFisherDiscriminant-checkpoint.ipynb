{
 "cells": [
  {
   "cell_type": "code",
   "execution_count": 1,
   "metadata": {},
   "outputs": [],
   "source": [
    "# Imports\n",
    "import numpy as np\n",
    "from bokeh.plotting import figure, show, output_file, output_notebook\n",
    "from bokeh.layouts import column\n",
    "from sklearn import datasets\n",
    "from sklearn.discriminant_analysis import LinearDiscriminantAnalysis"
   ]
  },
  {
   "cell_type": "code",
   "execution_count": 6,
   "metadata": {},
   "outputs": [],
   "source": [
    "# Data importing and organizing\n",
    "X,Y = datasets.make_classification(n_samples=100, n_features=2, n_informative=2, n_redundant=0,n_clusters_per_class = 1,\n",
    "                                   n_repeated=0, n_classes=3,shift =0,hypercube=True)"
   ]
  },
  {
   "cell_type": "code",
   "execution_count": 7,
   "metadata": {},
   "outputs": [],
   "source": [
    "# Alghoritm definition"
   ]
  },
  {
   "cell_type": "code",
   "execution_count": null,
   "metadata": {},
   "outputs": [],
   "source": [
    "# Calculations\n",
    "x_steps = 400\n",
    "y_steps = 400\n",
    "x_min, x_max = X[:, 0].min() - 1, X[:, 0].max() + 1\n",
    "y_min, y_max = X[:, 1].min() - 1, X[:, 1].max() + 1\n",
    "x_step_len = (x_max-x_min)/x_steps\n",
    "y_step_len = (y_max-y_min)/y_steps\n",
    "\n",
    "clf = LinearDiscriminantAnalysis()\n",
    "clf.fit(X,Y)\n",
    "\n",
    "classes_field = []\n",
    "for y in range(x_steps):\n",
    "    classes_line = []\n",
    "    for x in range(y_steps):\n",
    "        classes_line.append(clf.predict([[x_min+(x*x_step_len),y_min+(y*y_step_len)]]))\n",
    "    classes_field.append(classes_line)"
   ]
  },
  {
   "cell_type": "code",
   "execution_count": null,
   "metadata": {},
   "outputs": [],
   "source": [
    "# Visualizations\n",
    "colors = [[250,0,0],[0,250,0],[0,0,250]]\n",
    "TOOLS=\"hover,crosshair,pan,wheel_zoom,zoom_in,zoom_out,box_zoom,reset,tap,save,\"\n",
    "\n",
    "p_0 = figure(tools=TOOLS,x_range=(x_min,x_max), y_range=(y_min,y_max))\n",
    "p_0.scatter(X[:,0], X[:,1],radius = 0.05,\n",
    "          fill_color=[\"#%02x%02x%02x\" % (colors[x][0],colors[x][1],colors[x][2]) for x in Y],\n",
    "          line_color=\"#000000\")\n",
    "\n",
    "p_1 = figure(tools=TOOLS,x_range=(x_min,x_max), y_range=(y_min,y_max))\n",
    "\n",
    "img = np.empty((x_steps,y_steps), dtype=np.uint32)\n",
    "view = img.view(dtype=np.uint8).reshape((x_steps, y_steps, 4))\n",
    "for i in range(x_steps):\n",
    "    for j in range(y_steps):\n",
    "        view[j, i, 0] = int(max(colors[int(classes_field[j][i])][0]-40,0))\n",
    "        view[j, i, 1] = int(max(colors[int(classes_field[j][i])][1]-40,0))\n",
    "        view[j, i, 2] = int(max(colors[int(classes_field[j][i])][2]-40,0))\n",
    "        view[j, i, 3] = 255\n",
    "\n",
    "p_1.image_rgba(image=[img], x=x_min, y=y_min, dw=(x_max-x_min), dh=(y_max-y_min))\n",
    "p_1.scatter(X[:,0], X[:,1],radius = 0.05,\n",
    "          fill_color=[\"#%02x%02x%02x\" % (colors[x][0],colors[x][1],colors[x][2]) for x in Y],\n",
    "          line_color=\"#000000\")\n",
    "\n",
    "output_file(\"LinearFisherDiscriminant.html\", title=\"Linear Fisher\")\n",
    "output_notebook()\n",
    "\n",
    "show(column(p_0,p_1), notebook_handle=True)"
   ]
  },
  {
   "cell_type": "code",
   "execution_count": null,
   "metadata": {},
   "outputs": [],
   "source": []
  },
  {
   "cell_type": "code",
   "execution_count": null,
   "metadata": {},
   "outputs": [],
   "source": []
  }
 ],
 "metadata": {
  "kernelspec": {
   "display_name": "Python 3",
   "language": "python",
   "name": "python3"
  },
  "language_info": {
   "codemirror_mode": {
    "name": "ipython",
    "version": 3
   },
   "file_extension": ".py",
   "mimetype": "text/x-python",
   "name": "python",
   "nbconvert_exporter": "python",
   "pygments_lexer": "ipython3",
   "version": "3.6.3"
  }
 },
 "nbformat": 4,
 "nbformat_minor": 2
}
